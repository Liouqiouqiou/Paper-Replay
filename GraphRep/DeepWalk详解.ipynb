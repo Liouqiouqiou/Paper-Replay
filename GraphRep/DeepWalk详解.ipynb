{
 "cells": [
  {
   "cell_type": "code",
   "execution_count": 2,
   "metadata": {},
   "outputs": [],
   "source": [
    "import networkx as nx\n",
    "import random"
   ]
  },
  {
   "cell_type": "code",
   "execution_count": 3,
   "metadata": {},
   "outputs": [
    {
     "data": {
      "text/plain": [
       "'2.2'"
      ]
     },
     "execution_count": 3,
     "metadata": {},
     "output_type": "execute_result"
    }
   ],
   "source": [
    "nx.__version__"
   ]
  },
  {
   "cell_type": "markdown",
   "metadata": {},
   "source": [
    "## 生成ER随机图"
   ]
  },
  {
   "cell_type": "code",
   "execution_count": 4,
   "metadata": {},
   "outputs": [],
   "source": [
    "G = nx.fast_gnp_random_graph(50, 0.6)"
   ]
  },
  {
   "cell_type": "code",
   "execution_count": 5,
   "metadata": {},
   "outputs": [
    {
     "data": {
      "text/plain": [
       "NodeView((0, 1, 2, 3, 4, 5, 6, 7, 8, 9, 10, 11, 12, 13, 14, 15, 16, 17, 18, 19, 20, 21, 22, 23, 24, 25, 26, 27, 28, 29, 30, 31, 32, 33, 34, 35, 36, 37, 38, 39, 40, 41, 42, 43, 44, 45, 46, 47, 48, 49))"
      ]
     },
     "execution_count": 5,
     "metadata": {},
     "output_type": "execute_result"
    }
   ],
   "source": [
    "G.nodes()"
   ]
  },
  {
   "cell_type": "code",
   "execution_count": 6,
   "metadata": {},
   "outputs": [
    {
     "data": {
      "text/plain": [
       "True"
      ]
     },
     "execution_count": 6,
     "metadata": {},
     "output_type": "execute_result"
    }
   ],
   "source": [
    "nx.is_connected(G)"
   ]
  },
  {
   "cell_type": "code",
   "execution_count": 7,
   "metadata": {},
   "outputs": [],
   "source": [
    "nx.write_adjlist(G, \"mygraph.adjlist\")"
   ]
  },
  {
   "cell_type": "code",
   "execution_count": 8,
   "metadata": {},
   "outputs": [],
   "source": [
    "G = nx.read_adjlist(\"mygraph.adjlist\", nodetype=str)"
   ]
  },
  {
   "cell_type": "markdown",
   "metadata": {},
   "source": [
    "> **Word2Vector** 模型要求顶点为字符串"
   ]
  },
  {
   "cell_type": "code",
   "execution_count": 9,
   "metadata": {},
   "outputs": [
    {
     "data": {
      "text/plain": [
       "NodeView(('0', '3', '4', '5', '6', '7', '10', '11', '12', '13', '14', '16', '17', '18', '21', '22', '24', '25', '27', '29', '31', '33', '34', '37', '38', '39', '41', '45', '46', '48', '1', '2', '19', '28', '32', '40', '43', '44', '49', '9', '15', '20', '26', '30', '35', '36', '47', '23', '42', '8'))"
      ]
     },
     "execution_count": 9,
     "metadata": {},
     "output_type": "execute_result"
    }
   ],
   "source": [
    "G.nodes()"
   ]
  },
  {
   "cell_type": "markdown",
   "metadata": {},
   "source": [
    "## 图上的随机游走，给定随机游走的长度和起始点\n",
    "Ref: \n",
    "1. [清华大学自然语言处理Lab:OpenNE](https://github.com/thunlp/OpenNE/blob/master/src/openne/walker.py#L11) \n",
    "2. [作者源代码库:deepwalk](https://github.com/phanein/deepwalk/blob/master/deepwalk/graph.py#L122)\n"
   ]
  },
  {
   "cell_type": "code",
   "execution_count": 10,
   "metadata": {},
   "outputs": [],
   "source": [
    "def random_walk(G, walk_length, start_point):\n",
    "    walk = [start_point]\n",
    "    while len(walk) < walk_length:\n",
    "        cur = walk[-1]\n",
    "        cur_nbrs = list(G.neighbors(cur))\n",
    "        if len(cur_nbrs) > 0:\n",
    "            walk.append(random.choice(cur_nbrs))\n",
    "        else:\n",
    "            break\n",
    "    return walk"
   ]
  },
  {
   "cell_type": "code",
   "execution_count": 11,
   "metadata": {},
   "outputs": [
    {
     "data": {
      "text/plain": [
       "['0', '5', '1', '46', '31', '39', '0', '27', '46', '29']"
      ]
     },
     "execution_count": 11,
     "metadata": {},
     "output_type": "execute_result"
    }
   ],
   "source": [
    "random_walk(G, walk_length=10, start_point='0')"
   ]
  },
  {
   "cell_type": "markdown",
   "metadata": {},
   "source": [
    "## 建立随机游走词库"
   ]
  },
  {
   "cell_type": "code",
   "execution_count": 12,
   "metadata": {},
   "outputs": [],
   "source": [
    "def build_deepwalk_corpus(G, num_walks, walk_length):\n",
    "    # 对图的每个顶点跑一个随机游走。一共对图跑num_walks次。\n",
    "    walks = []\n",
    "    nodes = list(G.nodes())\n",
    "    \n",
    "    for cnt in range(num_walks):\n",
    "        random.shuffle(nodes)\n",
    "        for node in nodes:\n",
    "            walks.append(random_walk(G, walk_length, start_point=node))\n",
    "    \n",
    "    return walks"
   ]
  },
  {
   "cell_type": "code",
   "execution_count": 13,
   "metadata": {},
   "outputs": [],
   "source": [
    "walk_corpus = build_deepwalk_corpus(G, num_walks=5, walk_length=10)"
   ]
  },
  {
   "cell_type": "code",
   "execution_count": 14,
   "metadata": {},
   "outputs": [
    {
     "data": {
      "text/plain": [
       "[['33', '39', '40', '4', '45', '40', '23', '8', '21', '31'],\n",
       " ['15', '21', '33', '48', '16', '7', '1', '41', '10', '42'],\n",
       " ['19', '29', '47', '4', '41', '5', '18', '16', '31', '14'],\n",
       " ['17', '24', '0', '27', '29', '25', '33', '0', '27', '45'],\n",
       " ['37', '32', '49', '41', '2', '38', '44', '28', '29', '2'],\n",
       " ['47', '21', '47', '44', '21', '35', '26', '13', '37', '24'],\n",
       " ['36', '3', '47', '9', '21', '29', '24', '15', '47', '49'],\n",
       " ['1', '5', '35', '6', '32', '22', '0', '5', '16', '32'],\n",
       " ['9', '39', '44', '19', '46', '16', '17', '39', '34', '10'],\n",
       " ['11', '37', '7', '12', '36', '2', '48', '43', '36', '13']]"
      ]
     },
     "execution_count": 14,
     "metadata": {},
     "output_type": "execute_result"
    }
   ],
   "source": [
    "walk_corpus[:10]"
   ]
  },
  {
   "cell_type": "markdown",
   "metadata": {},
   "source": [
    "## 将随机游走词库看成自然语言词库代入Skip-Gram模型(Word2Vector)生成嵌入向量"
   ]
  },
  {
   "cell_type": "code",
   "execution_count": 20,
   "metadata": {},
   "outputs": [],
   "source": [
    "from gensim.models import Word2Vec"
   ]
  },
  {
   "cell_type": "code",
   "execution_count": 16,
   "metadata": {},
   "outputs": [],
   "source": [
    "vect = Word2Vec(walk_corpus, size=2, sg=1)"
   ]
  },
  {
   "cell_type": "code",
   "execution_count": 17,
   "metadata": {},
   "outputs": [
    {
     "data": {
      "text/plain": [
       "[0.41066470742225647, 0.3059128522872925]"
      ]
     },
     "execution_count": 17,
     "metadata": {},
     "output_type": "execute_result"
    }
   ],
   "source": [
    "vect.wv['14'].tolist()"
   ]
  },
  {
   "cell_type": "code",
   "execution_count": 18,
   "metadata": {},
   "outputs": [],
   "source": [
    "vectors = {}\n",
    "for word in G.nodes():\n",
    "    vectors[word] = vect.wv[word].tolist()"
   ]
  },
  {
   "cell_type": "code",
   "execution_count": 19,
   "metadata": {},
   "outputs": [
    {
     "data": {
      "text/plain": [
       "{'0': [0.1841091513633728, 0.2956933081150055],\n",
       " '3': [-0.0765131413936615, 0.2146182507276535],\n",
       " '4': [0.1806582808494568, 0.3519364297389984],\n",
       " '5': [0.01922767609357834, 0.012294016778469086],\n",
       " '6': [-0.09284552931785583, -0.06729608029127121],\n",
       " '7': [0.05694431811571121, 0.15262654423713684],\n",
       " '10': [0.2879209816455841, -0.02413460612297058],\n",
       " '11': [0.037030600011348724, 0.09687264263629913],\n",
       " '12': [-0.032191354781389236, -0.009465262293815613],\n",
       " '13': [-0.09966184198856354, 0.20574405789375305],\n",
       " '14': [0.41066470742225647, 0.3059128522872925],\n",
       " '16': [0.07503832876682281, 0.2188539206981659],\n",
       " '17': [0.14746424555778503, 0.35743406414985657],\n",
       " '18': [0.05164521187543869, 0.2634373605251312],\n",
       " '21': [0.22302907705307007, 0.08671806752681732],\n",
       " '22': [0.18896447122097015, 0.27202534675598145],\n",
       " '24': [0.17848733067512512, 0.13115401566028595],\n",
       " '25': [0.27120471000671387, 0.3310478627681732],\n",
       " '27': [0.40336599946022034, 0.152100071310997],\n",
       " '29': [0.12082358449697495, -0.08784928172826767],\n",
       " '31': [0.14494188129901886, 0.36347562074661255],\n",
       " '33': [0.11345125734806061, 0.23486004769802094],\n",
       " '34': [0.07339733839035034, 0.24838034808635712],\n",
       " '37': [0.12650558352470398, -0.02668849192559719],\n",
       " '38': [0.0008519819239154458, 0.040371865034103394],\n",
       " '39': [0.2981436252593994, -0.04757840931415558],\n",
       " '41': [0.06376459449529648, 0.016824154183268547],\n",
       " '45': [0.2978070080280304, 0.2428140640258789],\n",
       " '46': [-0.05096036195755005, 0.3306879997253418],\n",
       " '48': [0.20940612256526947, 0.12861502170562744],\n",
       " '1': [0.17620429396629333, -0.009886950254440308],\n",
       " '2': [0.40005290508270264, 0.10226360708475113],\n",
       " '19': [-0.06833145022392273, 0.19799964129924774],\n",
       " '28': [0.33500224351882935, 0.05179842561483383],\n",
       " '32': [-0.10500204563140869, 0.3965594470500946],\n",
       " '40': [0.10008706897497177, 0.24215765297412872],\n",
       " '43': [0.2704786956310272, 0.23463323712348938],\n",
       " '44': [0.21937295794487, -0.04879648610949516],\n",
       " '49': [0.1178794726729393, 0.3688551187515259],\n",
       " '9': [0.09766770899295807, 0.07709391415119171],\n",
       " '15': [-0.023393847048282623, 0.12428861111402512],\n",
       " '20': [0.22214308381080627, 0.2726636826992035],\n",
       " '26': [-0.06033725291490555, 0.30245885252952576],\n",
       " '30': [0.3610984981060028, 0.09490466862916946],\n",
       " '35': [-0.027156835421919823, 0.24096453189849854],\n",
       " '36': [0.17852549254894257, 0.38133805990219116],\n",
       " '47': [0.03580429032444954, 0.3670476973056793],\n",
       " '23': [0.12909844517707825, 0.31962621212005615],\n",
       " '42': [-0.10508440434932709, 0.13520383834838867],\n",
       " '8': [0.12004353106021881, 0.08442510664463043]}"
      ]
     },
     "execution_count": 19,
     "metadata": {},
     "output_type": "execute_result"
    }
   ],
   "source": [
    "vectors"
   ]
  },
  {
   "cell_type": "code",
   "execution_count": null,
   "metadata": {},
   "outputs": [],
   "source": []
  }
 ],
 "metadata": {
  "kernelspec": {
   "display_name": "Python 3",
   "language": "python",
   "name": "python3"
  },
  "language_info": {
   "codemirror_mode": {
    "name": "ipython",
    "version": 3
   },
   "file_extension": ".py",
   "mimetype": "text/x-python",
   "name": "python",
   "nbconvert_exporter": "python",
   "pygments_lexer": "ipython3",
   "version": "3.7.3"
  },
  "toc": {
   "base_numbering": 1,
   "nav_menu": {},
   "number_sections": true,
   "sideBar": true,
   "skip_h1_title": false,
   "title_cell": "Table of Contents",
   "title_sidebar": "Contents",
   "toc_cell": false,
   "toc_position": {},
   "toc_section_display": true,
   "toc_window_display": false
  },
  "varInspector": {
   "cols": {
    "lenName": 16,
    "lenType": 16,
    "lenVar": 40
   },
   "kernels_config": {
    "python": {
     "delete_cmd_postfix": "",
     "delete_cmd_prefix": "del ",
     "library": "var_list.py",
     "varRefreshCmd": "print(var_dic_list())"
    },
    "r": {
     "delete_cmd_postfix": ") ",
     "delete_cmd_prefix": "rm(",
     "library": "var_list.r",
     "varRefreshCmd": "cat(var_dic_list()) "
    }
   },
   "types_to_exclude": [
    "module",
    "function",
    "builtin_function_or_method",
    "instance",
    "_Feature"
   ],
   "window_display": false
  }
 },
 "nbformat": 4,
 "nbformat_minor": 2
}
