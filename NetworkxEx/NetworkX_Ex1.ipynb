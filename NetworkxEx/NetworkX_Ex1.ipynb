{
 "cells": [
  {
   "cell_type": "code",
   "execution_count": 1,
   "metadata": {},
   "outputs": [
    {
     "data": {
      "text/plain": [
       "'2.2'"
      ]
     },
     "execution_count": 1,
     "metadata": {},
     "output_type": "execute_result"
    }
   ],
   "source": [
    "import networkx as nx\n",
    "nx.__version__"
   ]
  },
  {
   "cell_type": "markdown",
   "metadata": {},
   "source": [
    "## 创建图\n",
    "networkx作者的介绍: [NetworkX](https://networkx.github.io/documentation/stable/tutorial.html)"
   ]
  },
  {
   "cell_type": "code",
   "execution_count": 2,
   "metadata": {},
   "outputs": [
    {
     "data": {
      "text/plain": [
       "{'name': \"Zachary's Karate Club\"}"
      ]
     },
     "execution_count": 2,
     "metadata": {},
     "output_type": "execute_result"
    }
   ],
   "source": [
    "G = nx.karate_club_graph()\n",
    "G.graph # 可以添加图的基本性质 "
   ]
  },
  {
   "cell_type": "code",
   "execution_count": 4,
   "metadata": {},
   "outputs": [
    {
     "data": {
      "text/plain": [
       "{'name': \"Zachary's Karate Club\", 'date': '2019/6/10'}"
      ]
     },
     "execution_count": 4,
     "metadata": {},
     "output_type": "execute_result"
    }
   ],
   "source": [
    "G.graph['date'] = '2019/6/10'\n",
    "G.graph # dict对象"
   ]
  },
  {
   "cell_type": "markdown",
   "metadata": {},
   "source": [
    "## 图的四个基本性质展示: G.nodes, G.edges, G.adj and G.degree"
   ]
  },
  {
   "cell_type": "markdown",
   "metadata": {},
   "source": [
    "### G.nodes"
   ]
  },
  {
   "cell_type": "code",
   "execution_count": 45,
   "metadata": {},
   "outputs": [
    {
     "data": {
      "text/plain": [
       "NodeView((0, 1, 2, 3, 4, 5, 6, 7, 8, 9, 10, 11, 12, 13, 14, 15, 16, 17, 18, 19, 20, 21, 22, 23, 24, 25, 26, 27, 28, 29, 30, 31, 32, 33))"
      ]
     },
     "execution_count": 45,
     "metadata": {},
     "output_type": "execute_result"
    }
   ],
   "source": [
    "G.nodes # G.nodes()"
   ]
  },
  {
   "cell_type": "code",
   "execution_count": 46,
   "metadata": {},
   "outputs": [
    {
     "name": "stdout",
     "output_type": "stream",
     "text": [
      "[0, 1, 2, 3, 4, 5, 6, 7, 8, 9, 10, 11, 12, 13, 14, 15, 16, 17, 18, 19, 20, 21, 22, 23, 24, 25, 26, 27, 28, 29, 30, 31, 32, 33]\n"
     ]
    }
   ],
   "source": [
    "print(list(G.nodes)) # 还可以用 set, tuple ..."
   ]
  },
  {
   "cell_type": "code",
   "execution_count": 47,
   "metadata": {},
   "outputs": [
    {
     "name": "stdout",
     "output_type": "stream",
     "text": [
      "{0: {'club': 'Mr. Hi'}, 1: {'club': 'Mr. Hi'}, 2: {'club': 'Mr. Hi'}, 3: {'club': 'Mr. Hi'}, 4: {'club': 'Mr. Hi'}, 5: {'club': 'Mr. Hi'}, 6: {'club': 'Mr. Hi'}, 7: {'club': 'Mr. Hi'}, 8: {'club': 'Mr. Hi'}, 9: {'club': 'Officer'}, 10: {'club': 'Mr. Hi'}, 11: {'club': 'Mr. Hi'}, 12: {'club': 'Mr. Hi'}, 13: {'club': 'Mr. Hi'}, 14: {'club': 'Officer'}, 15: {'club': 'Officer'}, 16: {'club': 'Mr. Hi'}, 17: {'club': 'Mr. Hi'}, 18: {'club': 'Officer'}, 19: {'club': 'Mr. Hi'}, 20: {'club': 'Officer'}, 21: {'club': 'Mr. Hi'}, 22: {'club': 'Officer'}, 23: {'club': 'Officer'}, 24: {'club': 'Officer'}, 25: {'club': 'Officer'}, 26: {'club': 'Officer'}, 27: {'club': 'Officer'}, 28: {'club': 'Officer'}, 29: {'club': 'Officer'}, 30: {'club': 'Officer'}, 31: {'club': 'Officer'}, 32: {'club': 'Officer'}, 33: {'club': 'Officer'}}\n"
     ]
    }
   ],
   "source": [
    "print(dict(G.nodes)) # node information data strcture is dict-dict ; 实际上来源于G._node\n",
    "#G.nodes.data()"
   ]
  },
  {
   "cell_type": "code",
   "execution_count": 48,
   "metadata": {},
   "outputs": [
    {
     "name": "stdout",
     "output_type": "stream",
     "text": [
      "{0: {'club': 'Mr. Hi'}, 1: {'club': 'Mr. Hi'}, 2: {'club': 'Mr. Hi'}, 3: {'club': 'Mr. Hi'}, 4: {'club': 'Mr. Hi'}, 5: {'club': 'Mr. Hi'}, 6: {'club': 'Mr. Hi'}, 7: {'club': 'Mr. Hi'}, 8: {'club': 'Mr. Hi'}, 9: {'club': 'Officer'}, 10: {'club': 'Mr. Hi'}, 11: {'club': 'Mr. Hi'}, 12: {'club': 'Mr. Hi'}, 13: {'club': 'Mr. Hi'}, 14: {'club': 'Officer'}, 15: {'club': 'Officer'}, 16: {'club': 'Mr. Hi'}, 17: {'club': 'Mr. Hi'}, 18: {'club': 'Officer'}, 19: {'club': 'Mr. Hi'}, 20: {'club': 'Officer'}, 21: {'club': 'Mr. Hi'}, 22: {'club': 'Officer'}, 23: {'club': 'Officer'}, 24: {'club': 'Officer'}, 25: {'club': 'Officer'}, 26: {'club': 'Officer'}, 27: {'club': 'Officer'}, 28: {'club': 'Officer'}, 29: {'club': 'Officer'}, 30: {'club': 'Officer'}, 31: {'club': 'Officer'}, 32: {'club': 'Officer'}, 33: {'club': 'Officer'}}\n"
     ]
    }
   ],
   "source": [
    "print(G._node)"
   ]
  },
  {
   "cell_type": "markdown",
   "metadata": {},
   "source": [
    "#### 给顶点添加新属性"
   ]
  },
  {
   "cell_type": "code",
   "execution_count": 49,
   "metadata": {},
   "outputs": [],
   "source": [
    "for node in G.nodes:\n",
    "    G.nodes[node]['size'] = 2"
   ]
  },
  {
   "cell_type": "code",
   "execution_count": 50,
   "metadata": {},
   "outputs": [
    {
     "data": {
      "text/plain": [
       "{0: {'club': 'Mr. Hi', 'size': 2},\n",
       " 1: {'club': 'Mr. Hi', 'size': 2},\n",
       " 2: {'club': 'Mr. Hi', 'size': 2},\n",
       " 3: {'club': 'Mr. Hi', 'size': 2},\n",
       " 4: {'club': 'Mr. Hi', 'size': 2},\n",
       " 5: {'club': 'Mr. Hi', 'size': 2},\n",
       " 6: {'club': 'Mr. Hi', 'size': 2},\n",
       " 7: {'club': 'Mr. Hi', 'size': 2},\n",
       " 8: {'club': 'Mr. Hi', 'size': 2},\n",
       " 9: {'club': 'Officer', 'size': 2},\n",
       " 10: {'club': 'Mr. Hi', 'size': 2},\n",
       " 11: {'club': 'Mr. Hi', 'size': 2},\n",
       " 12: {'club': 'Mr. Hi', 'size': 2},\n",
       " 13: {'club': 'Mr. Hi', 'size': 2},\n",
       " 14: {'club': 'Officer', 'size': 2},\n",
       " 15: {'club': 'Officer', 'size': 2},\n",
       " 16: {'club': 'Mr. Hi', 'size': 2},\n",
       " 17: {'club': 'Mr. Hi', 'size': 2},\n",
       " 18: {'club': 'Officer', 'size': 2},\n",
       " 19: {'club': 'Mr. Hi', 'size': 2},\n",
       " 20: {'club': 'Officer', 'size': 2},\n",
       " 21: {'club': 'Mr. Hi', 'size': 2},\n",
       " 22: {'club': 'Officer', 'size': 2},\n",
       " 23: {'club': 'Officer', 'size': 2},\n",
       " 24: {'club': 'Officer', 'size': 2},\n",
       " 25: {'club': 'Officer', 'size': 2},\n",
       " 26: {'club': 'Officer', 'size': 2},\n",
       " 27: {'club': 'Officer', 'size': 2},\n",
       " 28: {'club': 'Officer', 'size': 2},\n",
       " 29: {'club': 'Officer', 'size': 2},\n",
       " 30: {'club': 'Officer', 'size': 2},\n",
       " 31: {'club': 'Officer', 'size': 2},\n",
       " 32: {'club': 'Officer', 'size': 2},\n",
       " 33: {'club': 'Officer', 'size': 2}}"
      ]
     },
     "execution_count": 50,
     "metadata": {},
     "output_type": "execute_result"
    }
   ],
   "source": [
    "dict(G.nodes)"
   ]
  },
  {
   "cell_type": "markdown",
   "metadata": {},
   "source": [
    "####  总结： G.nodes本质上是一个dict， 不过输出时(被强制)省略了后面的参数"
   ]
  },
  {
   "cell_type": "markdown",
   "metadata": {},
   "source": [
    "### G.adj"
   ]
  },
  {
   "cell_type": "code",
   "execution_count": 6,
   "metadata": {},
   "outputs": [
    {
     "data": {
      "text/plain": [
       "AdjacencyView({0: {1: {}, 2: {}, 3: {}, 4: {}, 5: {}, 6: {}, 7: {}, 8: {}, 10: {}, 11: {}, 12: {}, 13: {}, 17: {}, 19: {}, 21: {}, 31: {}}, 1: {0: {}, 2: {}, 3: {}, 7: {}, 13: {}, 17: {}, 19: {}, 21: {}, 30: {}}, 2: {0: {}, 1: {}, 3: {}, 7: {}, 8: {}, 9: {}, 13: {}, 27: {}, 28: {}, 32: {}}, 3: {0: {}, 1: {}, 2: {}, 7: {}, 12: {}, 13: {}}, 4: {0: {}, 6: {}, 10: {}}, 5: {0: {}, 6: {}, 10: {}, 16: {}}, 6: {0: {}, 4: {}, 5: {}, 16: {}}, 7: {0: {}, 1: {}, 2: {}, 3: {}}, 8: {0: {}, 2: {}, 30: {}, 32: {}, 33: {}}, 9: {2: {}, 33: {}}, 10: {0: {}, 4: {}, 5: {}}, 11: {0: {}}, 12: {0: {}, 3: {}}, 13: {0: {}, 1: {}, 2: {}, 3: {}, 33: {}}, 14: {32: {}, 33: {}}, 15: {32: {}, 33: {}}, 16: {5: {}, 6: {}}, 17: {0: {}, 1: {}}, 18: {32: {}, 33: {}}, 19: {0: {}, 1: {}, 33: {}}, 20: {32: {}, 33: {}}, 21: {0: {}, 1: {}}, 22: {32: {}, 33: {}}, 23: {25: {}, 27: {}, 29: {}, 32: {}, 33: {}}, 24: {25: {}, 27: {}, 31: {}}, 25: {23: {}, 24: {}, 31: {}}, 26: {29: {}, 33: {}}, 27: {2: {}, 23: {}, 24: {}, 33: {}}, 28: {2: {}, 31: {}, 33: {}}, 29: {23: {}, 26: {}, 32: {}, 33: {}}, 30: {1: {}, 8: {}, 32: {}, 33: {}}, 31: {0: {}, 24: {}, 25: {}, 28: {}, 32: {}, 33: {}}, 32: {2: {}, 8: {}, 14: {}, 15: {}, 18: {}, 20: {}, 22: {}, 23: {}, 29: {}, 30: {}, 31: {}, 33: {}}, 33: {8: {}, 9: {}, 13: {}, 14: {}, 15: {}, 18: {}, 19: {}, 20: {}, 22: {}, 23: {}, 26: {}, 27: {}, 28: {}, 29: {}, 30: {}, 31: {}, 32: {}}})"
      ]
     },
     "execution_count": 6,
     "metadata": {},
     "output_type": "execute_result"
    }
   ],
   "source": [
    "G.adj"
   ]
  },
  {
   "cell_type": "code",
   "execution_count": 11,
   "metadata": {},
   "outputs": [
    {
     "name": "stdout",
     "output_type": "stream",
     "text": [
      "[0, 1, 2, 3, 4, 5, 6, 7, 8, 9, 10, 11, 12, 13, 14, 15, 16, 17, 18, 19, 20, 21, 22, 23, 24, 25, 26, 27, 28, 29, 30, 31, 32, 33]\n"
     ]
    }
   ],
   "source": [
    "print(list(G.adj))"
   ]
  },
  {
   "cell_type": "code",
   "execution_count": 12,
   "metadata": {},
   "outputs": [
    {
     "data": {
      "text/plain": [
       "{0: AtlasView({1: {}, 2: {}, 3: {}, 4: {}, 5: {}, 6: {}, 7: {}, 8: {}, 10: {}, 11: {}, 12: {}, 13: {}, 17: {}, 19: {}, 21: {}, 31: {}}),\n",
       " 1: AtlasView({0: {}, 2: {}, 3: {}, 7: {}, 13: {}, 17: {}, 19: {}, 21: {}, 30: {}}),\n",
       " 2: AtlasView({0: {}, 1: {}, 3: {}, 7: {}, 8: {}, 9: {}, 13: {}, 27: {}, 28: {}, 32: {}}),\n",
       " 3: AtlasView({0: {}, 1: {}, 2: {}, 7: {}, 12: {}, 13: {}}),\n",
       " 4: AtlasView({0: {}, 6: {}, 10: {}}),\n",
       " 5: AtlasView({0: {}, 6: {}, 10: {}, 16: {}}),\n",
       " 6: AtlasView({0: {}, 4: {}, 5: {}, 16: {}}),\n",
       " 7: AtlasView({0: {}, 1: {}, 2: {}, 3: {}}),\n",
       " 8: AtlasView({0: {}, 2: {}, 30: {}, 32: {}, 33: {}}),\n",
       " 9: AtlasView({2: {}, 33: {}}),\n",
       " 10: AtlasView({0: {}, 4: {}, 5: {}}),\n",
       " 11: AtlasView({0: {}}),\n",
       " 12: AtlasView({0: {}, 3: {}}),\n",
       " 13: AtlasView({0: {}, 1: {}, 2: {}, 3: {}, 33: {}}),\n",
       " 14: AtlasView({32: {}, 33: {}}),\n",
       " 15: AtlasView({32: {}, 33: {}}),\n",
       " 16: AtlasView({5: {}, 6: {}}),\n",
       " 17: AtlasView({0: {}, 1: {}}),\n",
       " 18: AtlasView({32: {}, 33: {}}),\n",
       " 19: AtlasView({0: {}, 1: {}, 33: {}}),\n",
       " 20: AtlasView({32: {}, 33: {}}),\n",
       " 21: AtlasView({0: {}, 1: {}}),\n",
       " 22: AtlasView({32: {}, 33: {}}),\n",
       " 23: AtlasView({25: {}, 27: {}, 29: {}, 32: {}, 33: {}}),\n",
       " 24: AtlasView({25: {}, 27: {}, 31: {}}),\n",
       " 25: AtlasView({23: {}, 24: {}, 31: {}}),\n",
       " 26: AtlasView({29: {}, 33: {}}),\n",
       " 27: AtlasView({2: {}, 23: {}, 24: {}, 33: {}}),\n",
       " 28: AtlasView({2: {}, 31: {}, 33: {}}),\n",
       " 29: AtlasView({23: {}, 26: {}, 32: {}, 33: {}}),\n",
       " 30: AtlasView({1: {}, 8: {}, 32: {}, 33: {}}),\n",
       " 31: AtlasView({0: {}, 24: {}, 25: {}, 28: {}, 32: {}, 33: {}}),\n",
       " 32: AtlasView({2: {}, 8: {}, 14: {}, 15: {}, 18: {}, 20: {}, 22: {}, 23: {}, 29: {}, 30: {}, 31: {}, 33: {}}),\n",
       " 33: AtlasView({8: {}, 9: {}, 13: {}, 14: {}, 15: {}, 18: {}, 19: {}, 20: {}, 22: {}, 23: {}, 26: {}, 27: {}, 28: {}, 29: {}, 30: {}, 31: {}, 32: {}})}"
      ]
     },
     "execution_count": 12,
     "metadata": {},
     "output_type": "execute_result"
    }
   ],
   "source": [
    "dict(G.adj)"
   ]
  },
  {
   "cell_type": "code",
   "execution_count": 13,
   "metadata": {},
   "outputs": [
    {
     "data": {
      "text/plain": [
       "AtlasView({1: {}, 2: {}, 3: {}, 4: {}, 5: {}, 6: {}, 7: {}, 8: {}, 10: {}, 11: {}, 12: {}, 13: {}, 17: {}, 19: {}, 21: {}, 31: {}})"
      ]
     },
     "execution_count": 13,
     "metadata": {},
     "output_type": "execute_result"
    }
   ],
   "source": [
    "G.adj[0]"
   ]
  },
  {
   "cell_type": "code",
   "execution_count": 29,
   "metadata": {},
   "outputs": [
    {
     "data": {
      "text/plain": [
       "AtlasView({1: {}, 2: {}, 3: {}, 4: {}, 5: {}, 6: {}, 7: {}, 8: {}, 10: {}, 11: {}, 12: {}, 13: {}, 17: {}, 19: {}, 21: {}, 31: {}})"
      ]
     },
     "execution_count": 29,
     "metadata": {},
     "output_type": "execute_result"
    }
   ],
   "source": [
    "G[0] # list(G.neighbors(0))"
   ]
  },
  {
   "cell_type": "code",
   "execution_count": 30,
   "metadata": {},
   "outputs": [
    {
     "data": {
      "text/plain": [
       "{}"
      ]
     },
     "execution_count": 30,
     "metadata": {},
     "output_type": "execute_result"
    }
   ],
   "source": [
    "G[0][1]"
   ]
  },
  {
   "cell_type": "markdown",
   "metadata": {},
   "source": [
    "#### 给链接'表’添加新属性 (!下面表示不是很方便, 在G.edges我们写出一个方便的)"
   ]
  },
  {
   "cell_type": "code",
   "execution_count": 51,
   "metadata": {},
   "outputs": [],
   "source": [
    "for u, nbs in G.adj.items():\n",
    "    for v in nbs:\n",
    "        G[u][v][\"weight\"] = 1"
   ]
  },
  {
   "cell_type": "code",
   "execution_count": 53,
   "metadata": {},
   "outputs": [
    {
     "data": {
      "text/plain": [
       "AdjacencyView({0: {1: {'weight': 1}, 2: {'weight': 1}, 3: {'weight': 1}, 4: {'weight': 1}, 5: {'weight': 1}, 6: {'weight': 1}, 7: {'weight': 1}, 8: {'weight': 1}, 10: {'weight': 1}, 11: {'weight': 1}, 12: {'weight': 1}, 13: {'weight': 1}, 17: {'weight': 1}, 19: {'weight': 1}, 21: {'weight': 1}, 31: {'weight': 1}}, 1: {0: {'weight': 1}, 2: {'weight': 1}, 3: {'weight': 1}, 7: {'weight': 1}, 13: {'weight': 1}, 17: {'weight': 1}, 19: {'weight': 1}, 21: {'weight': 1}, 30: {'weight': 1}}, 2: {0: {'weight': 1}, 1: {'weight': 1}, 3: {'weight': 1}, 7: {'weight': 1}, 8: {'weight': 1}, 9: {'weight': 1}, 13: {'weight': 1}, 27: {'weight': 1}, 28: {'weight': 1}, 32: {'weight': 1}}, 3: {0: {'weight': 1}, 1: {'weight': 1}, 2: {'weight': 1}, 7: {'weight': 1}, 12: {'weight': 1}, 13: {'weight': 1}}, 4: {0: {'weight': 1}, 6: {'weight': 1}, 10: {'weight': 1}}, 5: {0: {'weight': 1}, 6: {'weight': 1}, 10: {'weight': 1}, 16: {'weight': 1}}, 6: {0: {'weight': 1}, 4: {'weight': 1}, 5: {'weight': 1}, 16: {'weight': 1}}, 7: {0: {'weight': 1}, 1: {'weight': 1}, 2: {'weight': 1}, 3: {'weight': 1}}, 8: {0: {'weight': 1}, 2: {'weight': 1}, 30: {'weight': 1}, 32: {'weight': 1}, 33: {'weight': 1}}, 9: {2: {'weight': 1}, 33: {'weight': 1}}, 10: {0: {'weight': 1}, 4: {'weight': 1}, 5: {'weight': 1}}, 11: {0: {'weight': 1}}, 12: {0: {'weight': 1}, 3: {'weight': 1}}, 13: {0: {'weight': 1}, 1: {'weight': 1}, 2: {'weight': 1}, 3: {'weight': 1}, 33: {'weight': 1}}, 14: {32: {'weight': 1}, 33: {'weight': 1}}, 15: {32: {'weight': 1}, 33: {'weight': 1}}, 16: {5: {'weight': 1}, 6: {'weight': 1}}, 17: {0: {'weight': 1}, 1: {'weight': 1}}, 18: {32: {'weight': 1}, 33: {'weight': 1}}, 19: {0: {'weight': 1}, 1: {'weight': 1}, 33: {'weight': 1}}, 20: {32: {'weight': 1}, 33: {'weight': 1}}, 21: {0: {'weight': 1}, 1: {'weight': 1}}, 22: {32: {'weight': 1}, 33: {'weight': 1}}, 23: {25: {'weight': 1}, 27: {'weight': 1}, 29: {'weight': 1}, 32: {'weight': 1}, 33: {'weight': 1}}, 24: {25: {'weight': 1}, 27: {'weight': 1}, 31: {'weight': 1}}, 25: {23: {'weight': 1}, 24: {'weight': 1}, 31: {'weight': 1}}, 26: {29: {'weight': 1}, 33: {'weight': 1}}, 27: {2: {'weight': 1}, 23: {'weight': 1}, 24: {'weight': 1}, 33: {'weight': 1}}, 28: {2: {'weight': 1}, 31: {'weight': 1}, 33: {'weight': 1}}, 29: {23: {'weight': 1}, 26: {'weight': 1}, 32: {'weight': 1}, 33: {'weight': 1}}, 30: {1: {'weight': 1}, 8: {'weight': 1}, 32: {'weight': 1}, 33: {'weight': 1}}, 31: {0: {'weight': 1}, 24: {'weight': 1}, 25: {'weight': 1}, 28: {'weight': 1}, 32: {'weight': 1}, 33: {'weight': 1}}, 32: {2: {'weight': 1}, 8: {'weight': 1}, 14: {'weight': 1}, 15: {'weight': 1}, 18: {'weight': 1}, 20: {'weight': 1}, 22: {'weight': 1}, 23: {'weight': 1}, 29: {'weight': 1}, 30: {'weight': 1}, 31: {'weight': 1}, 33: {'weight': 1}}, 33: {8: {'weight': 1}, 9: {'weight': 1}, 13: {'weight': 1}, 14: {'weight': 1}, 15: {'weight': 1}, 18: {'weight': 1}, 19: {'weight': 1}, 20: {'weight': 1}, 22: {'weight': 1}, 23: {'weight': 1}, 26: {'weight': 1}, 27: {'weight': 1}, 28: {'weight': 1}, 29: {'weight': 1}, 30: {'weight': 1}, 31: {'weight': 1}, 32: {'weight': 1}}})"
      ]
     },
     "execution_count": 53,
     "metadata": {},
     "output_type": "execute_result"
    }
   ],
   "source": [
    "G.adj"
   ]
  },
  {
   "cell_type": "markdown",
   "metadata": {},
   "source": [
    "### G.edges"
   ]
  },
  {
   "cell_type": "code",
   "execution_count": 57,
   "metadata": {},
   "outputs": [
    {
     "data": {
      "text/plain": [
       "EdgeView([(0, 1), (0, 2), (0, 3), (0, 4), (0, 5), (0, 6), (0, 7), (0, 8), (0, 10), (0, 11), (0, 12), (0, 13), (0, 17), (0, 19), (0, 21), (0, 31), (1, 2), (1, 3), (1, 7), (1, 13), (1, 17), (1, 19), (1, 21), (1, 30), (2, 3), (2, 7), (2, 8), (2, 9), (2, 13), (2, 27), (2, 28), (2, 32), (3, 7), (3, 12), (3, 13), (4, 6), (4, 10), (5, 6), (5, 10), (5, 16), (6, 16), (8, 30), (8, 32), (8, 33), (9, 33), (13, 33), (14, 32), (14, 33), (15, 32), (15, 33), (18, 32), (18, 33), (19, 33), (20, 32), (20, 33), (22, 32), (22, 33), (23, 25), (23, 27), (23, 29), (23, 32), (23, 33), (24, 25), (24, 27), (24, 31), (25, 31), (26, 29), (26, 33), (27, 33), (28, 31), (28, 33), (29, 32), (29, 33), (30, 32), (30, 33), (31, 32), (31, 33), (32, 33)])"
      ]
     },
     "execution_count": 57,
     "metadata": {},
     "output_type": "execute_result"
    }
   ],
   "source": [
    "G.edges # G.edges()"
   ]
  },
  {
   "cell_type": "code",
   "execution_count": 58,
   "metadata": {},
   "outputs": [
    {
     "name": "stdout",
     "output_type": "stream",
     "text": [
      "[(0, 1), (0, 2), (0, 3), (0, 4), (0, 5), (0, 6), (0, 7), (0, 8), (0, 10), (0, 11), (0, 12), (0, 13), (0, 17), (0, 19), (0, 21), (0, 31), (1, 2), (1, 3), (1, 7), (1, 13), (1, 17), (1, 19), (1, 21), (1, 30), (2, 3), (2, 7), (2, 8), (2, 9), (2, 13), (2, 27), (2, 28), (2, 32), (3, 7), (3, 12), (3, 13), (4, 6), (4, 10), (5, 6), (5, 10), (5, 16), (6, 16), (8, 30), (8, 32), (8, 33), (9, 33), (13, 33), (14, 32), (14, 33), (15, 32), (15, 33), (18, 32), (18, 33), (19, 33), (20, 32), (20, 33), (22, 32), (22, 33), (23, 25), (23, 27), (23, 29), (23, 32), (23, 33), (24, 25), (24, 27), (24, 31), (25, 31), (26, 29), (26, 33), (27, 33), (28, 31), (28, 33), (29, 32), (29, 33), (30, 32), (30, 33), (31, 32), (31, 33), (32, 33)]\n"
     ]
    }
   ],
   "source": [
    "print(list(G.edges))"
   ]
  },
  {
   "cell_type": "code",
   "execution_count": 59,
   "metadata": {},
   "outputs": [
    {
     "name": "stdout",
     "output_type": "stream",
     "text": [
      "{(0, 1): {'weight': 1}, (0, 2): {'weight': 1}, (0, 3): {'weight': 1}, (0, 4): {'weight': 1}, (0, 5): {'weight': 1}, (0, 6): {'weight': 1}, (0, 7): {'weight': 1}, (0, 8): {'weight': 1}, (0, 10): {'weight': 1}, (0, 11): {'weight': 1}, (0, 12): {'weight': 1}, (0, 13): {'weight': 1}, (0, 17): {'weight': 1}, (0, 19): {'weight': 1}, (0, 21): {'weight': 1}, (0, 31): {'weight': 1}, (1, 2): {'weight': 1}, (1, 3): {'weight': 1}, (1, 7): {'weight': 1}, (1, 13): {'weight': 1}, (1, 17): {'weight': 1}, (1, 19): {'weight': 1}, (1, 21): {'weight': 1}, (1, 30): {'weight': 1}, (2, 3): {'weight': 1}, (2, 7): {'weight': 1}, (2, 8): {'weight': 1}, (2, 9): {'weight': 1}, (2, 13): {'weight': 1}, (2, 27): {'weight': 1}, (2, 28): {'weight': 1}, (2, 32): {'weight': 1}, (3, 7): {'weight': 1}, (3, 12): {'weight': 1}, (3, 13): {'weight': 1}, (4, 6): {'weight': 1}, (4, 10): {'weight': 1}, (5, 6): {'weight': 1}, (5, 10): {'weight': 1}, (5, 16): {'weight': 1}, (6, 16): {'weight': 1}, (8, 30): {'weight': 1}, (8, 32): {'weight': 1}, (8, 33): {'weight': 1}, (9, 33): {'weight': 1}, (13, 33): {'weight': 1}, (14, 32): {'weight': 1}, (14, 33): {'weight': 1}, (15, 32): {'weight': 1}, (15, 33): {'weight': 1}, (18, 32): {'weight': 1}, (18, 33): {'weight': 1}, (19, 33): {'weight': 1}, (20, 32): {'weight': 1}, (20, 33): {'weight': 1}, (22, 32): {'weight': 1}, (22, 33): {'weight': 1}, (23, 25): {'weight': 1}, (23, 27): {'weight': 1}, (23, 29): {'weight': 1}, (23, 32): {'weight': 1}, (23, 33): {'weight': 1}, (24, 25): {'weight': 1}, (24, 27): {'weight': 1}, (24, 31): {'weight': 1}, (25, 31): {'weight': 1}, (26, 29): {'weight': 1}, (26, 33): {'weight': 1}, (27, 33): {'weight': 1}, (28, 31): {'weight': 1}, (28, 33): {'weight': 1}, (29, 32): {'weight': 1}, (29, 33): {'weight': 1}, (30, 32): {'weight': 1}, (30, 33): {'weight': 1}, (31, 32): {'weight': 1}, (31, 33): {'weight': 1}, (32, 33): {'weight': 1}}\n"
     ]
    }
   ],
   "source": [
    "print(dict(G.edges)) # edge information data strcture is dict-dict; 实际上从 G._adj来"
   ]
  },
  {
   "cell_type": "markdown",
   "metadata": {},
   "source": [
    "#### 给边添加新属性就是在邻接表中添加属性"
   ]
  },
  {
   "cell_type": "code",
   "execution_count": 62,
   "metadata": {},
   "outputs": [],
   "source": [
    "for edge in G.edges:\n",
    "    G.edges[edge]['color'] = 'r'"
   ]
  },
  {
   "cell_type": "code",
   "execution_count": 66,
   "metadata": {},
   "outputs": [
    {
     "data": {
      "text/plain": [
       "AtlasView({1: {'weight': 1, 'color': 'r'}, 2: {'weight': 1, 'color': 'r'}, 3: {'weight': 1, 'color': 'r'}, 4: {'weight': 1, 'color': 'r'}, 5: {'weight': 1, 'color': 'r'}, 6: {'weight': 1, 'color': 'r'}, 7: {'weight': 1, 'color': 'r'}, 8: {'weight': 1, 'color': 'r'}, 10: {'weight': 1, 'color': 'r'}, 11: {'weight': 1, 'color': 'r'}, 12: {'weight': 1, 'color': 'r'}, 13: {'weight': 1, 'color': 'r'}, 17: {'weight': 1, 'color': 'r'}, 19: {'weight': 1, 'color': 'r'}, 21: {'weight': 1, 'color': 'r'}, 31: {'weight': 1, 'color': 'r'}})"
      ]
     },
     "execution_count": 66,
     "metadata": {},
     "output_type": "execute_result"
    }
   ],
   "source": [
    "G[0] #G.adj"
   ]
  },
  {
   "cell_type": "code",
   "execution_count": 67,
   "metadata": {},
   "outputs": [
    {
     "data": {
      "text/plain": [
       "EdgeDataView([(0, 1, {'weight': 1, 'color': 'r'}), (0, 2, {'weight': 1, 'color': 'r'}), (0, 3, {'weight': 1, 'color': 'r'}), (0, 4, {'weight': 1, 'color': 'r'}), (0, 5, {'weight': 1, 'color': 'r'}), (0, 6, {'weight': 1, 'color': 'r'}), (0, 7, {'weight': 1, 'color': 'r'}), (0, 8, {'weight': 1, 'color': 'r'}), (0, 10, {'weight': 1, 'color': 'r'}), (0, 11, {'weight': 1, 'color': 'r'}), (0, 12, {'weight': 1, 'color': 'r'}), (0, 13, {'weight': 1, 'color': 'r'}), (0, 17, {'weight': 1, 'color': 'r'}), (0, 19, {'weight': 1, 'color': 'r'}), (0, 21, {'weight': 1, 'color': 'r'}), (0, 31, {'weight': 1, 'color': 'r'}), (1, 2, {'weight': 1, 'color': 'r'}), (1, 3, {'weight': 1, 'color': 'r'}), (1, 7, {'weight': 1, 'color': 'r'}), (1, 13, {'weight': 1, 'color': 'r'}), (1, 17, {'weight': 1, 'color': 'r'}), (1, 19, {'weight': 1, 'color': 'r'}), (1, 21, {'weight': 1, 'color': 'r'}), (1, 30, {'weight': 1, 'color': 'r'}), (2, 3, {'weight': 1, 'color': 'r'}), (2, 7, {'weight': 1, 'color': 'r'}), (2, 8, {'weight': 1, 'color': 'r'}), (2, 9, {'weight': 1, 'color': 'r'}), (2, 13, {'weight': 1, 'color': 'r'}), (2, 27, {'weight': 1, 'color': 'r'}), (2, 28, {'weight': 1, 'color': 'r'}), (2, 32, {'weight': 1, 'color': 'r'}), (3, 7, {'weight': 1, 'color': 'r'}), (3, 12, {'weight': 1, 'color': 'r'}), (3, 13, {'weight': 1, 'color': 'r'}), (4, 6, {'weight': 1, 'color': 'r'}), (4, 10, {'weight': 1, 'color': 'r'}), (5, 6, {'weight': 1, 'color': 'r'}), (5, 10, {'weight': 1, 'color': 'r'}), (5, 16, {'weight': 1, 'color': 'r'}), (6, 16, {'weight': 1, 'color': 'r'}), (8, 30, {'weight': 1, 'color': 'r'}), (8, 32, {'weight': 1, 'color': 'r'}), (8, 33, {'weight': 1, 'color': 'r'}), (9, 33, {'weight': 1, 'color': 'r'}), (13, 33, {'weight': 1, 'color': 'r'}), (14, 32, {'weight': 1, 'color': 'r'}), (14, 33, {'weight': 1, 'color': 'r'}), (15, 32, {'weight': 1, 'color': 'r'}), (15, 33, {'weight': 1, 'color': 'r'}), (18, 32, {'weight': 1, 'color': 'r'}), (18, 33, {'weight': 1, 'color': 'r'}), (19, 33, {'weight': 1, 'color': 'r'}), (20, 32, {'weight': 1, 'color': 'r'}), (20, 33, {'weight': 1, 'color': 'r'}), (22, 32, {'weight': 1, 'color': 'r'}), (22, 33, {'weight': 1, 'color': 'r'}), (23, 25, {'weight': 1, 'color': 'r'}), (23, 27, {'weight': 1, 'color': 'r'}), (23, 29, {'weight': 1, 'color': 'r'}), (23, 32, {'weight': 1, 'color': 'r'}), (23, 33, {'weight': 1, 'color': 'r'}), (24, 25, {'weight': 1, 'color': 'r'}), (24, 27, {'weight': 1, 'color': 'r'}), (24, 31, {'weight': 1, 'color': 'r'}), (25, 31, {'weight': 1, 'color': 'r'}), (26, 29, {'weight': 1, 'color': 'r'}), (26, 33, {'weight': 1, 'color': 'r'}), (27, 33, {'weight': 1, 'color': 'r'}), (28, 31, {'weight': 1, 'color': 'r'}), (28, 33, {'weight': 1, 'color': 'r'}), (29, 32, {'weight': 1, 'color': 'r'}), (29, 33, {'weight': 1, 'color': 'r'}), (30, 32, {'weight': 1, 'color': 'r'}), (30, 33, {'weight': 1, 'color': 'r'}), (31, 32, {'weight': 1, 'color': 'r'}), (31, 33, {'weight': 1, 'color': 'r'}), (32, 33, {'weight': 1, 'color': 'r'})])"
      ]
     },
     "execution_count": 67,
     "metadata": {},
     "output_type": "execute_result"
    }
   ],
   "source": [
    "G.edges.data()\n",
    "#print(dict(G.edges))"
   ]
  },
  {
   "cell_type": "markdown",
   "metadata": {},
   "source": [
    "#### 最朴素的给边添加属性"
   ]
  },
  {
   "cell_type": "code",
   "execution_count": 69,
   "metadata": {},
   "outputs": [],
   "source": [
    "for u, v in G.edges:\n",
    "    G[u][v][\"length\"] = 2"
   ]
  },
  {
   "cell_type": "code",
   "execution_count": 70,
   "metadata": {},
   "outputs": [
    {
     "data": {
      "text/plain": [
       "AtlasView({1: {'weight': 1, 'color': 'r', 'length': 2}, 2: {'weight': 1, 'color': 'r', 'length': 2}, 3: {'weight': 1, 'color': 'r', 'length': 2}, 4: {'weight': 1, 'color': 'r', 'length': 2}, 5: {'weight': 1, 'color': 'r', 'length': 2}, 6: {'weight': 1, 'color': 'r', 'length': 2}, 7: {'weight': 1, 'color': 'r', 'length': 2}, 8: {'weight': 1, 'color': 'r', 'length': 2}, 10: {'weight': 1, 'color': 'r', 'length': 2}, 11: {'weight': 1, 'color': 'r', 'length': 2}, 12: {'weight': 1, 'color': 'r', 'length': 2}, 13: {'weight': 1, 'color': 'r', 'length': 2}, 17: {'weight': 1, 'color': 'r', 'length': 2}, 19: {'weight': 1, 'color': 'r', 'length': 2}, 21: {'weight': 1, 'color': 'r', 'length': 2}, 31: {'weight': 1, 'color': 'r', 'length': 2}})"
      ]
     },
     "execution_count": 70,
     "metadata": {},
     "output_type": "execute_result"
    }
   ],
   "source": [
    "G[0]"
   ]
  },
  {
   "cell_type": "markdown",
   "metadata": {},
   "source": [
    "### G.degree "
   ]
  },
  {
   "cell_type": "code",
   "execution_count": 74,
   "metadata": {},
   "outputs": [
    {
     "data": {
      "text/plain": [
       "DegreeView({0: 16, 1: 9, 2: 10, 3: 6, 4: 3, 5: 4, 6: 4, 7: 4, 8: 5, 9: 2, 10: 3, 11: 1, 12: 2, 13: 5, 14: 2, 15: 2, 16: 2, 17: 2, 18: 2, 19: 3, 20: 2, 21: 2, 22: 2, 23: 5, 24: 3, 25: 3, 26: 2, 27: 4, 28: 3, 29: 4, 30: 4, 31: 6, 32: 12, 33: 17})"
      ]
     },
     "execution_count": 74,
     "metadata": {},
     "output_type": "execute_result"
    }
   ],
   "source": [
    "G.degree # G.degree()"
   ]
  },
  {
   "cell_type": "code",
   "execution_count": 83,
   "metadata": {},
   "outputs": [
    {
     "data": {
      "text/plain": [
       "[(0, 16), (1, 9), (2, 10)]"
      ]
     },
     "execution_count": 83,
     "metadata": {},
     "output_type": "execute_result"
    }
   ],
   "source": [
    "list(G.degree([0, 1, 2]))"
   ]
  },
  {
   "cell_type": "code",
   "execution_count": 76,
   "metadata": {},
   "outputs": [
    {
     "name": "stdout",
     "output_type": "stream",
     "text": [
      "[(0, 16), (1, 9), (2, 10), (3, 6), (4, 3), (5, 4), (6, 4), (7, 4), (8, 5), (9, 2), (10, 3), (11, 1), (12, 2), (13, 5), (14, 2), (15, 2), (16, 2), (17, 2), (18, 2), (19, 3), (20, 2), (21, 2), (22, 2), (23, 5), (24, 3), (25, 3), (26, 2), (27, 4), (28, 3), (29, 4), (30, 4), (31, 6), (32, 12), (33, 17)]\n"
     ]
    }
   ],
   "source": [
    "print(list(G.degree))"
   ]
  },
  {
   "cell_type": "code",
   "execution_count": 78,
   "metadata": {},
   "outputs": [
    {
     "name": "stdout",
     "output_type": "stream",
     "text": [
      "{0: 16, 1: 9, 2: 10, 3: 6, 4: 3, 5: 4, 6: 4, 7: 4, 8: 5, 9: 2, 10: 3, 11: 1, 12: 2, 13: 5, 14: 2, 15: 2, 16: 2, 17: 2, 18: 2, 19: 3, 20: 2, 21: 2, 22: 2, 23: 5, 24: 3, 25: 3, 26: 2, 27: 4, 28: 3, 29: 4, 30: 4, 31: 6, 32: 12, 33: 17}\n"
     ]
    }
   ],
   "source": [
    "print(dict(G.degree))"
   ]
  },
  {
   "cell_type": "code",
   "execution_count": 89,
   "metadata": {},
   "outputs": [
    {
     "data": {
      "text/plain": [
       "9"
      ]
     },
     "execution_count": 89,
     "metadata": {},
     "output_type": "execute_result"
    }
   ],
   "source": [
    "G.degree[1]"
   ]
  },
  {
   "cell_type": "markdown",
   "metadata": {},
   "source": [
    "## 图的基本信息"
   ]
  },
  {
   "cell_type": "code",
   "execution_count": 93,
   "metadata": {},
   "outputs": [
    {
     "data": {
      "text/plain": [
       "78"
      ]
     },
     "execution_count": 93,
     "metadata": {},
     "output_type": "execute_result"
    }
   ],
   "source": [
    "G.size() # G.number_of_edges() "
   ]
  },
  {
   "cell_type": "code",
   "execution_count": 94,
   "metadata": {},
   "outputs": [
    {
     "data": {
      "text/plain": [
       "34"
      ]
     },
     "execution_count": 94,
     "metadata": {},
     "output_type": "execute_result"
    }
   ],
   "source": [
    "G.order() # G.number_of_nodes()"
   ]
  },
  {
   "cell_type": "code",
   "execution_count": 97,
   "metadata": {},
   "outputs": [
    {
     "data": {
      "text/plain": [
       "True"
      ]
     },
     "execution_count": 97,
     "metadata": {},
     "output_type": "execute_result"
    }
   ],
   "source": [
    "nx.is_connected(G)"
   ]
  },
  {
   "cell_type": "markdown",
   "metadata": {},
   "source": [
    "## 画图"
   ]
  },
  {
   "cell_type": "code",
   "execution_count": 98,
   "metadata": {},
   "outputs": [],
   "source": [
    "import matplotlib.pyplot as plt"
   ]
  },
  {
   "cell_type": "code",
   "execution_count": 114,
   "metadata": {},
   "outputs": [
    {
     "data": {
      "image/png": "[encoded data removed]",
      "text/plain": [
       "<Figure size 432x288 with 1 Axes>"
      ]
     },
     "metadata": {},
     "output_type": "display_data"
    }
   ],
   "source": [
    "nx.draw(G, with_labels=True, node_size=200, node_color = 'blue', width=1.5)\n",
    "plt.show()"
   ]
  }
 ],
 "metadata": {
  "kernelspec": {
   "display_name": "Python 3",
   "language": "python",
   "name": "python3"
  },
  "language_info": {
   "codemirror_mode": {
    "name": "ipython",
    "version": 3
   },
   "file_extension": ".py",
   "mimetype": "text/x-python",
   "name": "python",
   "nbconvert_exporter": "python",
   "pygments_lexer": "ipython3",
   "version": "3.7.3"
  },
  "toc": {
   "base_numbering": 1,
   "nav_menu": {},
   "number_sections": true,
   "sideBar": true,
   "skip_h1_title": false,
   "title_cell": "Table of Contents",
   "title_sidebar": "Contents",
   "toc_cell": false,
   "toc_position": {},
   "toc_section_display": true,
   "toc_window_display": false
  },
  "varInspector": {
   "cols": {
    "lenName": 16,
    "lenType": 16,
    "lenVar": 40
   },
   "kernels_config": {
    "python": {
     "delete_cmd_postfix": "",
     "delete_cmd_prefix": "del ",
     "library": "var_list.py",
     "varRefreshCmd": "print(var_dic_list())"
    },
    "r": {
     "delete_cmd_postfix": ") ",
     "delete_cmd_prefix": "rm(",
     "library": "var_list.r",
     "varRefreshCmd": "cat(var_dic_list()) "
    }
   },
   "types_to_exclude": [
    "module",
    "function",
    "builtin_function_or_method",
    "instance",
    "_Feature"
   ],
   "window_display": false
  }
 },
 "nbformat": 4,
 "nbformat_minor": 2
}
