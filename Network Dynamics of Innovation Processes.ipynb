{
 "cells": [
  {
   "cell_type": "code",
   "execution_count": 2,
   "metadata": {},
   "outputs": [],
   "source": [
    "import numpy as np\n",
    "import scipy as sp\n",
    "import networkx as nx"
   ]
  },
  {
   "attachments": {},
   "cell_type": "markdown",
   "metadata": {},
   "source": [
    "# Edge-Reinforced Random Walk (ERRW) 边强化随机游走\n",
    "参考文章[Network Danamics of Innovation processes](https://journals.aps.org/prl/abstract/10.1103/PhysRevLett.120.048301)\n",
    "\n",
    "在我们的实验中w代表weighted matrix, p代表transport matrix.\n",
    "$$P^t(i \\rightarrow j)=p_{ij}^t = \\frac{w_{ij}^t}{\\sum_{l}w_{il}^t}$$\n",
    "\n",
    "$$w_{ij}^{t+1} = w_{ij}^t + \\delta w$$\n"
   ]
  },
  {
   "attachments": {},
   "cell_type": "markdown",
   "metadata": {},
   "source": [
    "![errw](pic/errw.jpg)"
   ]
  },
  {
   "cell_type": "markdown",
   "metadata": {},
   "source": [
    "为了节省内存，我们只不把每次迭代的权重矩阵(weighted matrix)保存下来.\n",
    "1. N代表网络的节点数(# of nodes)\n",
    "2. T代表时间的长度(length of time)\n",
    "3. S表示保存的随机游走序列(sequence of random wark)"
   ]
  },
  {
   "cell_type": "markdown",
   "metadata": {},
   "source": [
    "## Reamrk : 对无向图（有向图去掉一个加$\\delta w$） ，节点标记为number"
   ]
  },
  {
   "cell_type": "markdown",
   "metadata": {},
   "source": [
    "## 探索性分析过程"
   ]
  },
  {
   "cell_type": "code",
   "execution_count": 3,
   "metadata": {},
   "outputs": [],
   "source": [
    "N = 20\n",
    "T = 100\n",
    "G = nx.erdos_renyi_graph(N, 0.5)"
   ]
  },
  {
   "cell_type": "code",
   "execution_count": 4,
   "metadata": {},
   "outputs": [
    {
     "data": {
      "text/plain": [
       "array([0., 0., 0., 0., 0., 0., 0., 0., 0., 0., 0., 0., 0., 0., 0., 0., 0.,\n",
       "       0., 0., 0., 0., 0., 0., 0., 0., 0., 0., 0., 0., 0., 0., 0., 0., 0.,\n",
       "       0., 0., 0., 0., 0., 0., 0., 0., 0., 0., 0., 0., 0., 0., 0., 0., 0.,\n",
       "       0., 0., 0., 0., 0., 0., 0., 0., 0., 0., 0., 0., 0., 0., 0., 0., 0.,\n",
       "       0., 0., 0., 0., 0., 0., 0., 0., 0., 0., 0., 0., 0., 0., 0., 0., 0.,\n",
       "       0., 0., 0., 0., 0., 0., 0., 0., 0., 0., 0., 0., 0., 0., 0.])"
      ]
     },
     "execution_count": 4,
     "metadata": {},
     "output_type": "execute_result"
    }
   ],
   "source": [
    "S = np.zeros(T)#这种形式不能储存顶点为string?\n",
    "S[0] = np.random.choice(G.nodes(),size=1)\n",
    "S"
   ]
  },
  {
   "cell_type": "code",
   "execution_count": 7,
   "metadata": {},
   "outputs": [
    {
     "data": {
      "text/plain": [
       "[15]"
      ]
     },
     "execution_count": 7,
     "metadata": {},
     "output_type": "execute_result"
    }
   ],
   "source": [
    "S = []\n",
    "S.append(np.random.choice(G.nodes()))\n",
    "S"
   ]
  },
  {
   "cell_type": "code",
   "execution_count": 8,
   "metadata": {},
   "outputs": [
    {
     "name": "stdout",
     "output_type": "stream",
     "text": [
      "[[0. 0. 0. 1. 0. 0. 1. 1. 0. 1. 0. 1. 1. 0. 1. 1. 0. 0. 1. 1.]\n",
      " [0. 0. 1. 0. 0. 1. 1. 1. 0. 0. 1. 0. 0. 0. 0. 0. 0. 1. 1. 1.]\n",
      " [0. 1. 0. 0. 0. 1. 1. 0. 0. 1. 0. 0. 1. 1. 0. 0. 0. 1. 1. 0.]\n",
      " [1. 0. 0. 0. 1. 0. 0. 0. 1. 0. 0. 1. 0. 1. 0. 0. 1. 0. 1. 0.]\n",
      " [0. 0. 0. 1. 0. 0. 1. 0. 1. 0. 0. 0. 0. 1. 1. 1. 0. 0. 1. 1.]\n",
      " [0. 1. 1. 0. 0. 0. 1. 1. 0. 0. 0. 1. 0. 1. 0. 0. 1. 0. 0. 1.]\n",
      " [1. 1. 1. 0. 1. 1. 0. 0. 0. 0. 0. 0. 0. 0. 0. 1. 0. 0. 1. 1.]\n",
      " [1. 1. 0. 0. 0. 1. 0. 0. 1. 1. 0. 1. 0. 0. 0. 1. 0. 0. 0. 1.]\n",
      " [0. 0. 0. 1. 1. 0. 0. 1. 0. 1. 1. 0. 1. 0. 0. 1. 0. 1. 0. 1.]\n",
      " [1. 0. 1. 0. 0. 0. 0. 1. 1. 0. 1. 0. 0. 1. 1. 1. 0. 1. 0. 1.]\n",
      " [0. 1. 0. 0. 0. 0. 0. 0. 1. 1. 0. 0. 0. 0. 1. 0. 1. 0. 0. 0.]\n",
      " [1. 0. 0. 1. 0. 1. 0. 1. 0. 0. 0. 0. 1. 1. 0. 0. 0. 0. 1. 1.]\n",
      " [1. 0. 1. 0. 0. 0. 0. 0. 1. 0. 0. 1. 0. 0. 0. 0. 1. 1. 0. 1.]\n",
      " [0. 0. 1. 1. 1. 1. 0. 0. 0. 1. 0. 1. 0. 0. 1. 1. 1. 0. 0. 1.]\n",
      " [1. 0. 0. 0. 1. 0. 0. 0. 0. 1. 1. 0. 0. 1. 0. 1. 1. 1. 0. 1.]\n",
      " [1. 0. 0. 0. 1. 0. 1. 1. 1. 1. 0. 0. 0. 1. 1. 0. 0. 1. 0. 1.]\n",
      " [0. 0. 0. 1. 0. 1. 0. 0. 0. 0. 1. 0. 1. 1. 1. 0. 0. 0. 0. 0.]\n",
      " [0. 1. 1. 0. 0. 0. 0. 0. 1. 1. 0. 0. 1. 0. 1. 1. 0. 0. 0. 1.]\n",
      " [1. 1. 1. 1. 1. 0. 1. 0. 0. 0. 0. 1. 0. 0. 0. 0. 0. 0. 0. 1.]\n",
      " [1. 1. 0. 0. 1. 1. 1. 1. 1. 1. 0. 1. 1. 1. 1. 1. 0. 1. 1. 0.]]\n"
     ]
    }
   ],
   "source": [
    "w = np.array(nx.adj_matrix(G).toarray(), dtype=float)\n",
    "print(w)"
   ]
  },
  {
   "cell_type": "code",
   "execution_count": 9,
   "metadata": {
    "collapsed": true
   },
   "outputs": [
    {
     "data": {
      "text/plain": [
       "array([[10.],\n",
       "       [ 8.],\n",
       "       [ 8.],\n",
       "       [ 7.],\n",
       "       [ 8.],\n",
       "       [ 8.],\n",
       "       [ 8.],\n",
       "       [ 8.],\n",
       "       [ 9.],\n",
       "       [10.],\n",
       "       [ 5.],\n",
       "       [ 8.],\n",
       "       [ 7.],\n",
       "       [10.],\n",
       "       [ 9.],\n",
       "       [10.],\n",
       "       [ 6.],\n",
       "       [ 8.],\n",
       "       [ 8.],\n",
       "       [15.]])"
      ]
     },
     "execution_count": 9,
     "metadata": {},
     "output_type": "execute_result"
    }
   ],
   "source": [
    "w_s = w.sum(1).reshape(-1, 1)\n",
    "w_s"
   ]
  },
  {
   "cell_type": "code",
   "execution_count": 10,
   "metadata": {},
   "outputs": [
    {
     "data": {
      "text/plain": [
       "array([1., 1., 1., 1., 1., 1., 1., 1., 1., 1., 1., 1., 1., 1., 1., 1., 1.,\n",
       "       1., 1., 1.])"
      ]
     },
     "execution_count": 10,
     "metadata": {},
     "output_type": "execute_result"
    }
   ],
   "source": [
    "p = w / w_s\n",
    "p.sum(1)"
   ]
  },
  {
   "cell_type": "code",
   "execution_count": 11,
   "metadata": {},
   "outputs": [],
   "source": [
    "delta_w = 0.5"
   ]
  },
  {
   "cell_type": "code",
   "execution_count": 12,
   "metadata": {},
   "outputs": [],
   "source": [
    "for i in range(T):   \n",
    "    u = S[-1]\n",
    "    neigb = list(G[u])\n",
    "    pp = p[u][p[u]!=0]\n",
    "    v = np.random.choice(neigb, p=pp)\n",
    "    w[u, v]+= delta_w\n",
    "    w[v, u]+= delta_w\n",
    "    w_s = w.sum(1).reshape(-1, 1)\n",
    "    p = w / w_s\n",
    "    S.append(v)"
   ]
  },
  {
   "cell_type": "code",
   "execution_count": 13,
   "metadata": {},
   "outputs": [
    {
     "name": "stdout",
     "output_type": "stream",
     "text": [
      "[15, 8, 7, 8, 12, 0, 6, 5, 19, 17, 12, 19, 15, 8, 3, 13, 14, 13, 2, 12, 19, 13, 2, 13, 5, 7, 0, 15, 8, 7, 5, 6, 19, 7, 5, 6, 15, 4, 19, 4, 8, 3, 16, 3, 8, 9, 15, 6, 19, 18, 1, 2, 13, 5, 13, 5, 19, 18, 19, 5, 7, 9, 10, 14, 10, 8, 3, 18, 11, 13, 2, 6, 0, 7, 9, 10, 14, 10, 16, 3, 18, 6, 1, 17, 19, 4, 19, 9, 8, 7, 19, 18, 3, 0, 3, 16, 3, 16, 3, 4, 8]\n"
     ]
    }
   ],
   "source": [
    "print(S)"
   ]
  },
  {
   "cell_type": "code",
   "execution_count": 16,
   "metadata": {},
   "outputs": [
    {
     "data": {
      "text/plain": [
       "100.0"
      ]
     },
     "execution_count": 16,
     "metadata": {},
     "output_type": "execute_result"
    }
   ],
   "source": [
    "w.sum() - nx.adj_matrix(G).sum()"
   ]
  },
  {
   "cell_type": "code",
   "execution_count": 19,
   "metadata": {},
   "outputs": [
    {
     "data": {
      "text/plain": [
       "True"
      ]
     },
     "execution_count": 19,
     "metadata": {},
     "output_type": "execute_result"
    }
   ],
   "source": [
    "100/0.5 == 2*T"
   ]
  },
  {
   "cell_type": "code",
   "execution_count": 21,
   "metadata": {},
   "outputs": [
    {
     "data": {
      "image/png": "[encoded data removed]",
      "text/plain": [
       "<Figure size 432x288 with 1 Axes>"
      ]
     },
     "metadata": {
      "needs_background": "light"
     },
     "output_type": "display_data"
    }
   ],
   "source": [
    "import matplotlib.pyplot as plt\n",
    "plt.hist(S)\n",
    "plt.xticks(range(N))\n",
    "plt.show()"
   ]
  },
  {
   "cell_type": "markdown",
   "metadata": {},
   "source": [
    "## 将上述整理成函数形式"
   ]
  },
  {
   "cell_type": "code",
   "execution_count": 42,
   "metadata": {},
   "outputs": [],
   "source": [
    "def edge_reinforce_random_walk(G, T, delta_w = 0.5):\n",
    "    # init value\n",
    "    S = []\n",
    "    S.append(np.random.choice(G.nodes()))\n",
    "    w = np.array(nx.adj_matrix(G).toarray(), dtype=float)\n",
    "    w_s = w.sum(1).reshape(-1, 1)\n",
    "    p = w / w_s\n",
    "    # update\n",
    "    for i in range(T):   \n",
    "        u = S[-1]\n",
    "        neigb = list(G[u]) # neigh of u\n",
    "        pp = p[u][p[u]!=0]\n",
    "        v = np.random.choice(neigb, p=pp)\n",
    "        w[u, v] += delta_w\n",
    "        w[v, u] += delta_w\n",
    "        w_s = w.sum(1).reshape(-1, 1)\n",
    "        p = w / w_s\n",
    "        S.append(v)\n",
    "    return S, w"
   ]
  },
  {
   "cell_type": "code",
   "execution_count": 46,
   "metadata": {},
   "outputs": [],
   "source": [
    "N = 100\n",
    "G = nx.erdos_renyi_graph(N, 0.5)\n",
    "T = 200\n",
    "SS, ww = edge_reinforce_random_walk(G, T)"
   ]
  },
  {
   "cell_type": "code",
   "execution_count": 47,
   "metadata": {},
   "outputs": [
    {
     "name": "stdout",
     "output_type": "stream",
     "text": [
      "[68, 26, 3, 22, 26, 68, 64, 72, 90, 0, 85, 26, 14, 8, 71, 54, 38, 33, 49, 29, 77, 46, 86, 75, 86, 7, 73, 53, 42, 81, 22, 58, 16, 77, 52, 24, 80, 49, 87, 44, 63, 13, 86, 50, 33, 10, 54, 10, 33, 53, 73, 81, 56, 69, 33, 49, 74, 67, 23, 79, 67, 90, 52, 74, 62, 74, 81, 62, 58, 2, 87, 49, 4, 28, 2, 15, 39, 55, 12, 8, 88, 65, 97, 55, 15, 38, 87, 39, 58, 85, 31, 51, 71, 92, 25, 76, 81, 21, 26, 23, 62, 11, 86, 53, 4, 91, 48, 5, 16, 69, 95, 53, 86, 4, 44, 89, 85, 82, 65, 99, 76, 32, 53, 1, 21, 46, 71, 74, 63, 71, 42, 30, 15, 90, 20, 94, 54, 5, 33, 39, 33, 26, 45, 88, 37, 78, 38, 52, 42, 70, 33, 53, 61, 53, 81, 63, 82, 85, 87, 90, 15, 2, 31, 80, 14, 24, 14, 90, 84, 79, 57, 0, 9, 50, 4, 40, 11, 75, 56, 54, 57, 47, 85, 19, 11, 78, 26, 12, 31, 0, 35, 17, 12, 28, 4, 50, 74, 81, 51, 59, 76]\n"
     ]
    }
   ],
   "source": [
    "print(SS) # length T + 1"
   ]
  },
  {
   "cell_type": "code",
   "execution_count": 51,
   "metadata": {},
   "outputs": [
    {
     "data": {
      "text/plain": [
       "array([0. , 0. , 0. , 1. , 1. , 0. , 0. , 0. , 0. , 1. , 1. , 1. , 0. ,\n",
       "       0. , 1. , 0. , 1.5, 0. , 0. , 1. , 1. , 0. , 0. , 0. , 1. , 1. ,\n",
       "       1. , 0. , 1. , 0. , 1. , 0. , 1. , 1.5, 0. , 0. , 1. , 0. , 0. ,\n",
       "       0. , 1. , 1. , 1. , 0. , 1. , 1. , 1. , 1. , 1.5, 0. , 1. , 1. ,\n",
       "       1. , 1. , 1.5, 0. , 1. , 0. , 1. , 0. , 1. , 0. , 0. , 0. , 1. ,\n",
       "       1. , 1. , 1. , 1. , 1. , 0. , 0. , 1. , 0. , 0. , 1. , 0. , 0. ,\n",
       "       0. , 1. , 0. , 0. , 1. , 0. , 0. , 0. , 0. , 1. , 0. , 0. , 0. ,\n",
       "       1. , 1. , 0. , 1. , 0. , 1. , 1. , 0. , 1. ])"
      ]
     },
     "execution_count": 51,
     "metadata": {},
     "output_type": "execute_result"
    }
   ],
   "source": [
    "ww[5]"
   ]
  },
  {
   "cell_type": "code",
   "execution_count": 53,
   "metadata": {},
   "outputs": [
    {
     "data": {
      "text/plain": [
       "True"
      ]
     },
     "execution_count": 53,
     "metadata": {},
     "output_type": "execute_result"
    }
   ],
   "source": [
    "nx.is_connected(G)"
   ]
  },
  {
   "cell_type": "markdown",
   "metadata": {},
   "source": [
    "# Node-Reinforce Random Walk 节点强化随机游走 (假设而已)"
   ]
  },
  {
   "cell_type": "markdown",
   "metadata": {},
   "source": [
    "1. $s_i^t$ 是$i$节点在$t$时刻的值. (value of node $i$)\n",
    "2. $$p_{ij}^t = \\frac{A_{ij}s_j^t}{\\sum_lA_{il}s_l^t}$$\n",
    "3. 从$i$节点走到$j$节点后更新$j$节点的值:(update value of node $j$)\n",
    "4. $$s_j^{t+1} = s_j^t + \\delta s $$"
   ]
  },
  {
   "cell_type": "markdown",
   "metadata": {},
   "source": [
    "## 探索性分析"
   ]
  },
  {
   "cell_type": "code",
   "execution_count": 101,
   "metadata": {},
   "outputs": [
    {
     "data": {
      "text/plain": [
       "array([1., 1., 1., 1., 1., 1., 1., 1., 1., 1.])"
      ]
     },
     "execution_count": 101,
     "metadata": {},
     "output_type": "execute_result"
    }
   ],
   "source": [
    "N = 10\n",
    "s = np.ones(N, dtype=float)\n",
    "s"
   ]
  },
  {
   "cell_type": "code",
   "execution_count": 102,
   "metadata": {},
   "outputs": [],
   "source": [
    "G = nx.erdos_renyi_graph(N, 0.5)"
   ]
  },
  {
   "cell_type": "code",
   "execution_count": 103,
   "metadata": {},
   "outputs": [],
   "source": [
    "A = np.array(nx.adj_matrix(G).toarray(), dtype=float)"
   ]
  },
  {
   "cell_type": "code",
   "execution_count": 104,
   "metadata": {},
   "outputs": [
    {
     "data": {
      "text/plain": [
       "array([[0., 1., 0., 0., 1., 0., 0., 0., 1., 0.],\n",
       "       [1., 0., 1., 1., 0., 1., 1., 1., 1., 1.],\n",
       "       [0., 1., 0., 1., 0., 0., 1., 1., 1., 1.],\n",
       "       [0., 1., 1., 0., 0., 1., 1., 1., 0., 1.],\n",
       "       [1., 0., 0., 0., 0., 1., 1., 1., 1., 1.],\n",
       "       [0., 1., 0., 1., 1., 0., 0., 0., 0., 0.],\n",
       "       [0., 1., 1., 1., 1., 0., 0., 0., 0., 1.],\n",
       "       [0., 1., 1., 1., 1., 0., 0., 0., 0., 1.],\n",
       "       [1., 1., 1., 0., 1., 0., 0., 0., 0., 0.],\n",
       "       [0., 1., 1., 1., 1., 0., 1., 1., 0., 0.]])"
      ]
     },
     "execution_count": 104,
     "metadata": {},
     "output_type": "execute_result"
    }
   ],
   "source": [
    "A"
   ]
  },
  {
   "cell_type": "code",
   "execution_count": 105,
   "metadata": {},
   "outputs": [
    {
     "data": {
      "text/plain": [
       "array([[0., 1., 0., 0., 1., 0., 0., 0., 1., 0.],\n",
       "       [1., 0., 1., 1., 0., 1., 1., 1., 1., 1.],\n",
       "       [0., 1., 0., 1., 0., 0., 1., 1., 1., 1.],\n",
       "       [0., 1., 1., 0., 0., 1., 1., 1., 0., 1.],\n",
       "       [1., 0., 0., 0., 0., 1., 1., 1., 1., 1.],\n",
       "       [0., 1., 0., 1., 1., 0., 0., 0., 0., 0.],\n",
       "       [0., 1., 1., 1., 1., 0., 0., 0., 0., 1.],\n",
       "       [0., 1., 1., 1., 1., 0., 0., 0., 0., 1.],\n",
       "       [1., 1., 1., 0., 1., 0., 0., 0., 0., 0.],\n",
       "       [0., 1., 1., 1., 1., 0., 1., 1., 0., 0.]])"
      ]
     },
     "execution_count": 105,
     "metadata": {},
     "output_type": "execute_result"
    }
   ],
   "source": [
    "A*s"
   ]
  },
  {
   "cell_type": "code",
   "execution_count": 106,
   "metadata": {},
   "outputs": [
    {
     "data": {
      "text/plain": [
       "array([[3.],\n",
       "       [8.],\n",
       "       [6.],\n",
       "       [6.],\n",
       "       [6.],\n",
       "       [3.],\n",
       "       [5.],\n",
       "       [5.],\n",
       "       [4.],\n",
       "       [6.]])"
      ]
     },
     "execution_count": 106,
     "metadata": {},
     "output_type": "execute_result"
    }
   ],
   "source": [
    "(A*s).sum(1).reshape(-1, 1)"
   ]
  },
  {
   "cell_type": "code",
   "execution_count": 107,
   "metadata": {},
   "outputs": [
    {
     "data": {
      "text/plain": [
       "array([1., 1., 1., 1., 1., 1., 1., 1., 1., 1.])"
      ]
     },
     "execution_count": 107,
     "metadata": {},
     "output_type": "execute_result"
    }
   ],
   "source": [
    "p = A*s/(A*s).sum(1).reshape(-1, 1)\n",
    "p.sum(1)"
   ]
  },
  {
   "cell_type": "code",
   "execution_count": 108,
   "metadata": {},
   "outputs": [],
   "source": [
    "S = []\n",
    "S.append(np.random.choice(G.nodes()))"
   ]
  },
  {
   "cell_type": "code",
   "execution_count": 109,
   "metadata": {},
   "outputs": [
    {
     "data": {
      "text/plain": [
       "[7]"
      ]
     },
     "execution_count": 109,
     "metadata": {},
     "output_type": "execute_result"
    }
   ],
   "source": [
    "S"
   ]
  },
  {
   "cell_type": "code",
   "execution_count": 110,
   "metadata": {},
   "outputs": [],
   "source": [
    "delta_s = 0.5"
   ]
  },
  {
   "cell_type": "code",
   "execution_count": 111,
   "metadata": {},
   "outputs": [],
   "source": [
    "T = 100"
   ]
  },
  {
   "cell_type": "code",
   "execution_count": 112,
   "metadata": {},
   "outputs": [],
   "source": [
    "for i in range(T):\n",
    "    u = S[-1]\n",
    "    neigb = list(G[u])\n",
    "    pp = p[u][list(G[u])]\n",
    "    v = np.random.choice(neigb, p=pp)\n",
    "    s[v] += delta_s\n",
    "    p = A*s/(A*s).sum(1).reshape(-1, 1)\n",
    "    S.append(v)"
   ]
  },
  {
   "cell_type": "code",
   "execution_count": 113,
   "metadata": {},
   "outputs": [
    {
     "data": {
      "text/plain": [
       "array([ 5.5,  4.5,  4.5,  4. , 13.5,  2. ,  4.5,  5.5,  4. , 12. ])"
      ]
     },
     "execution_count": 113,
     "metadata": {},
     "output_type": "execute_result"
    }
   ],
   "source": [
    "s"
   ]
  },
  {
   "cell_type": "code",
   "execution_count": 114,
   "metadata": {},
   "outputs": [
    {
     "name": "stdout",
     "output_type": "stream",
     "text": [
      "[7, 4, 8, 4, 0, 1, 3, 9, 4, 9, 4, 7, 2, 9, 3, 9, 3, 2, 9, 4, 7, 1, 8, 0, 4, 0, 8, 4, 5, 1, 0, 4, 9, 6, 9, 4, 9, 4, 8, 0, 4, 9, 4, 0, 4, 8, 1, 0, 4, 0, 4, 9, 4, 9, 4, 5, 3, 6, 9, 6, 2, 6, 4, 9, 2, 8, 2, 9, 4, 7, 9, 4, 7, 1, 9, 7, 2, 9, 4, 0, 4, 9, 3, 7, 2, 9, 1, 7, 4, 6, 3, 6, 9, 6, 9, 4, 9, 4, 7, 1, 7]\n"
     ]
    }
   ],
   "source": [
    "print(S)"
   ]
  },
  {
   "cell_type": "markdown",
   "metadata": {},
   "source": [
    "## 整理成函数形式"
   ]
  },
  {
   "cell_type": "code",
   "execution_count": 123,
   "metadata": {},
   "outputs": [],
   "source": [
    "def node_reinforce_random_walk(G, s=None,S0=None, T=200, delta_s=0.5):\n",
    "    N = G.order()\n",
    "    if s==None:\n",
    "        s = s = np.ones(N, dtype=float)\n",
    "    S = []\n",
    "    S.append(np.random.choice(G.nodes()))\n",
    "    A = np.array(nx.adj_matrix(G).toarray(), dtype=float)\n",
    "    p = A*s/(A*s).sum(1).reshape(-1, 1)\n",
    "    for i in range(T):\n",
    "        u = S[-1]\n",
    "        neigb = list(G[u])\n",
    "        pp = p[u][list(G[u])]\n",
    "        v = np.random.choice(neigb, p=pp)\n",
    "        s[v] += delta_s\n",
    "        p = A*s/(A*s).sum(1).reshape(-1, 1)\n",
    "        S.append(v)\n",
    "    return S, s"
   ]
  },
  {
   "cell_type": "code",
   "execution_count": 124,
   "metadata": {},
   "outputs": [],
   "source": [
    "N = 100\n",
    "G = nx.erdos_renyi_graph(N, 0.5)\n",
    "SS, ss = node_reinforce_random_walk(G)"
   ]
  },
  {
   "cell_type": "code",
   "execution_count": 125,
   "metadata": {},
   "outputs": [
    {
     "name": "stdout",
     "output_type": "stream",
     "text": [
      "[27, 99, 93, 49, 22, 12, 38, 55, 23, 50, 76, 42, 55, 12, 64, 17, 61, 75, 12, 61, 11, 44, 8, 27, 3, 84, 90, 35, 55, 90, 39, 88, 39, 68, 80, 65, 24, 25, 99, 91, 11, 6, 27, 56, 26, 38, 60, 72, 15, 12, 62, 32, 38, 19, 74, 93, 57, 14, 82, 6, 19, 98, 76, 19, 68, 31, 43, 6, 58, 4, 90, 3, 94, 7, 41, 26, 88, 38, 12, 16, 35, 26, 11, 17, 95, 26, 2, 75, 65, 1, 43, 87, 58, 63, 58, 68, 72, 29, 43, 60, 24, 99, 72, 58, 80, 57, 15, 51, 95, 99, 82, 6, 93, 37, 75, 57, 56, 76, 24, 66, 24, 25, 93, 33, 23, 54, 23, 92, 29, 88, 72, 27, 43, 15, 27, 0, 54, 39, 84, 25, 2, 94, 88, 81, 79, 41, 78, 19, 11, 27, 33, 27, 2, 72, 68, 52, 73, 44, 26, 44, 93, 27, 13, 87, 65, 1, 88, 12, 31, 8, 94, 37, 48, 61, 68, 40, 36, 15, 3, 35, 76, 2, 58, 87, 8, 43, 23, 22, 90, 3, 31, 12, 95, 82, 49, 44, 3, 20, 12, 25, 22]\n"
     ]
    }
   ],
   "source": [
    "print(SS)"
   ]
  },
  {
   "cell_type": "code",
   "execution_count": 126,
   "metadata": {},
   "outputs": [
    {
     "data": {
      "text/plain": [
       "array([1.5, 2. , 3. , 3.5, 1.5, 1. , 3. , 1.5, 2.5, 1. , 1. , 3. , 5. ,\n",
       "       1.5, 1.5, 3. , 1.5, 2. , 1. , 3. , 1.5, 1. , 2.5, 3. , 3. , 3. ,\n",
       "       3.5, 4.5, 1. , 2. , 1. , 2.5, 1.5, 2. , 1. , 2.5, 1.5, 2. , 3. ,\n",
       "       2.5, 1.5, 2. , 1.5, 3.5, 3. , 1. , 1. , 1. , 1.5, 2. , 1.5, 1.5,\n",
       "       1.5, 1. , 2. , 2.5, 2. , 2.5, 3.5, 1. , 2. , 2.5, 1.5, 1.5, 1.5,\n",
       "       2.5, 1.5, 1. , 3.5, 1. , 1. , 1. , 3.5, 1.5, 1.5, 2.5, 3. , 1. ,\n",
       "       1.5, 1.5, 2. , 1.5, 2.5, 1. , 2. , 1. , 1. , 2.5, 3.5, 1. , 3. ,\n",
       "       1.5, 1.5, 3.5, 2.5, 2.5, 1. , 1. , 1.5, 3. ])"
      ]
     },
     "execution_count": 126,
     "metadata": {},
     "output_type": "execute_result"
    }
   ],
   "source": [
    "ss"
   ]
  },
  {
   "cell_type": "code",
   "execution_count": 129,
   "metadata": {},
   "outputs": [
    {
     "data": {
      "image/png": "[encoded data removed]",
      "text/plain": [
       "<Figure size 432x288 with 1 Axes>"
      ]
     },
     "metadata": {
      "needs_background": "light"
     },
     "output_type": "display_data"
    }
   ],
   "source": [
    "import matplotlib.pyplot as plt\n",
    "plt.hist(SS)\n",
    "plt.show()"
   ]
  }
 ],
 "metadata": {
  "kernelspec": {
   "display_name": "Python 3",
   "language": "python",
   "name": "python3"
  },
  "language_info": {
   "codemirror_mode": {
    "name": "ipython",
    "version": 3
   },
   "file_extension": ".py",
   "mimetype": "text/x-python",
   "name": "python",
   "nbconvert_exporter": "python",
   "pygments_lexer": "ipython3",
   "version": "3.6.4"
  },
  "toc": {
   "base_numbering": 1,
   "nav_menu": {},
   "number_sections": true,
   "sideBar": true,
   "skip_h1_title": false,
   "title_cell": "Table of Contents",
   "title_sidebar": "Contents",
   "toc_cell": false,
   "toc_position": {},
   "toc_section_display": true,
   "toc_window_display": false
  },
  "varInspector": {
   "cols": {
    "lenName": 16,
    "lenType": 16,
    "lenVar": 40
   },
   "kernels_config": {
    "python": {
     "delete_cmd_postfix": "",
     "delete_cmd_prefix": "del ",
     "library": "var_list.py",
     "varRefreshCmd": "print(var_dic_list())"
    },
    "r": {
     "delete_cmd_postfix": ") ",
     "delete_cmd_prefix": "rm(",
     "library": "var_list.r",
     "varRefreshCmd": "cat(var_dic_list()) "
    }
   },
   "types_to_exclude": [
    "module",
    "function",
    "builtin_function_or_method",
    "instance",
    "_Feature"
   ],
   "window_display": false
  }
 },
 "nbformat": 4,
 "nbformat_minor": 2
}
